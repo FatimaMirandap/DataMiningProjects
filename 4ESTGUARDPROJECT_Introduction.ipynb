{
  "nbformat": 4,
  "nbformat_minor": 0,
  "metadata": {
    "colab": {
      "provenance": [],
      "authorship_tag": "ABX9TyNviZPhpKiVStJfIvmLjDt8",
      "include_colab_link": true
    },
    "kernelspec": {
      "name": "python3",
      "display_name": "Python 3"
    },
    "language_info": {
      "name": "python"
    }
  },
  "cells": [
    {
      "cell_type": "markdown",
      "metadata": {
        "id": "view-in-github",
        "colab_type": "text"
      },
      "source": [
        "<a href=\"https://colab.research.google.com/github/FatimaMirandap/DataMiningProjects/blob/main/4ESTGUARDPROJECT_Introduction.ipynb\" target=\"_parent\"><img src=\"https://colab.research.google.com/assets/colab-badge.svg\" alt=\"Open In Colab\"/></a>"
      ]
    },
    {
      "cell_type": "markdown",
      "source": [
        "# PROJECT INTRODUCTION"
      ],
      "metadata": {
        "id": "CI8jD9iufluE"
      }
    },
    {
      "cell_type": "markdown",
      "source": [
        "**4est-Guard: AI-Driven Aerial Surveillance for Strategic Deforestation Management in Sierra Juárez, Oaxaca.**\n",
        "\n",
        "Universidad politécnica de Yucatán.\n",
        "\n",
        "Student: Fátima Miranda Pestaña.\n",
        "\n",
        "Teacher: Víctor Alejandro Ortíz.\n",
        "\n",
        "Methodology: CRISP.\n",
        "\n",
        "KNN model.\n",
        "\n",
        "Key words: pattern recognition, classification models, machine learning"
      ],
      "metadata": {
        "id": "KqseFIXIfoSi"
      }
    },
    {
      "cell_type": "markdown",
      "source": [
        "Access to:\n",
        "\n",
        "Interactive code: https://colab.research.google.com/drive/1pfl6720oYYVkPVneAmPFuHmkv73B0qVD?usp=sharing\n",
        "\n",
        "Code in PDF: https://drive.google.com/file/d/1E5dOWcgGHO7Q8-Dd9NKhOml_aScWGOr6/view?usp=sharing\n",
        "\n",
        "Poster in PDF: https://drive.google.com/file/d/1bQlGeKq6wUrVoGWr2lEyjWHmleaIndWN/view?usp=sharing\n",
        "\n",
        "Youtube link: https://youtu.be/Fo_GTsMeapA?si=Kz_2pcGIcMKUqeE2"
      ],
      "metadata": {
        "id": "w_UmGO4Ufa1r"
      }
    },
    {
      "cell_type": "markdown",
      "source": [
        "**ABSTRACT**\n",
        "\n",
        "Facing the urgent challenge of deforestation in Sierra Juarez, Oaxaca, '4estGuard' leverages drone-captured imagery and AI to forecast and prevent tree loss. This approach enables high-precision monitoring and predictive analysis, informing proactive conservation strategies. Initial findings affirm its effectiveness and potential for broader ecological applications.\n",
        "\n",
        "\n",
        "**OBJECTIVE**\n",
        "\n",
        "This project aims to harness these technological advancements not only to document the current state of forests but to safeguard their future. By deploying drones across the threatened landscapes of Sierra Juarez, we aim to create a dynamic and responsive system of forest surveillance. This system will not only track and report illegal logging activities but also support sustainable forestry management, helping to balance human economic needs with the imperative of ecological preservation.\n",
        "\n",
        "**METHODS**\n",
        "\n",
        "In '4estGuard', our methodology encompasses three distinct yet interconnected stages.\n",
        "Initially, we undertook a thorough investigation of similar environmental projects, particularly those in Brazil to glean insights into successful deforestation monitoring techniques. This review informed our approach and highlighted the effectiveness of technological solutions.\n",
        "\n",
        "For data collection, we deployed advanced drones across Sierra Juarez, capturing high-resolution aerial imagery to comprehensively map forested and deforested areas.\n",
        "We selected DJI Mavic 3 Classic drone because this model stands out for its superior imaging capabilities, crucial for accurate forest monitoring.\n",
        "The crux of our project lies in the data analysis phase, where AI algorithms process the imagery to identify deforestation patterns and correlations.\n",
        "3D Terrain Maps: To give a detailed visual of the topography of the areas monitored by drones, which can influence deforestation patterns and accessibility.\n",
        "Before-and-After Comparisons: Using images or bar graphs to show the state of certain areas before and after conservation efforts or deforestation events.\n",
        "\n",
        "**EXPECTED OUTCOMES**\n",
        "\n",
        "By utilizing the DJI Mavic 3 Classic, we expect to produce comprehensive maps showing current deforestation areas and vulnerable spots, providing a clear visual representation of the issue.\n",
        "The AI-driven analysis of drone imagery is anticipated to not only highlight existing deforestation but also predict future hotspots with a high degree of accuracy. This predictive capability will be pivotal in preemptive conservation efforts.\n"
      ],
      "metadata": {
        "id": "bmEPe05Hp0Dt"
      }
    },
    {
      "cell_type": "code",
      "source": [],
      "metadata": {
        "id": "r9vFJjh5ink9"
      },
      "execution_count": null,
      "outputs": []
    }
  ]
}